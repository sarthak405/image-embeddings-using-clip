{
  "cells": [
    {
      "cell_type": "code",
      "execution_count": 54,
      "metadata": {
        "id": "Xhr2MTzi59Nl"
      },
      "outputs": [],
      "source": [
        "import tensorflow as tf\n",
        "from IPython.display import display\n",
        "\n",
        "import matplotlib.pyplot as plt\n",
        "import tensorflow_hub as hub\n",
        "\n",
        "import numpy as np\n",
        "\n",
        "import warnings\n",
        "warnings.filterwarnings('ignore')"
      ]
    },
    {
      "cell_type": "code",
      "execution_count": 55,
      "metadata": {},
      "outputs": [],
      "source": [
        "import os\n",
        "import urllib\n",
        "import uuid\n",
        "from datetime import datetime\n",
        "\n",
        "import pandas as pd\n",
        "\n",
        "import requests\n",
        "from PIL import Image\n",
        "\n",
        "from arize.pandas.logger import Client\n",
        "from arize.utils.types import Environments, ModelTypes, EmbeddingColumnNames, Schema"
      ]
    },
    {
      "cell_type": "code",
      "execution_count": 56,
      "metadata": {},
      "outputs": [
        {
          "data": {
            "text/plain": [
              "['beanleaf_validation.csv', 'beanleaf_train.csv', 'beanleaf_production.csv']"
            ]
          },
          "execution_count": 56,
          "metadata": {},
          "output_type": "execute_result"
        }
      ],
      "source": [
        "files_to_remove = ['.DS_Store']\n",
        "\n",
        "root_folder = os.path.abspath('')\n",
        "embeddings_folder = 'data/embeddings'\n",
        "embeddings_folder_path = os.path.join(root_folder, embeddings_folder)\n",
        "beanleaf_files = os.listdir(embeddings_folder_path)\n",
        "beanleaf_files = [i for i in beanleaf_files if i not in files_to_remove]\n",
        "\n",
        "beanleaf_files"
      ]
    },
    {
      "cell_type": "code",
      "execution_count": 57,
      "metadata": {},
      "outputs": [],
      "source": [
        "def converter(instr):\n",
        "    return np.fromstring(instr[1:-1],sep=' ')\n",
        "\n",
        "validation_file = os.path.join(embeddings_folder_path, beanleaf_files[0])\n",
        "validation_df = pd.read_csv(validation_file, converters={'vector':converter})\n",
        "\n",
        "training_file = os.path.join(embeddings_folder_path, beanleaf_files[1])\n",
        "train_df = pd.read_csv(training_file, converters={'vector':converter})\n",
        "\n",
        "production_file = os.path.join(embeddings_folder_path, beanleaf_files[2])\n",
        "production_df = pd.read_csv(production_file, converters={'vector':converter})"
      ]
    },
    {
      "cell_type": "code",
      "execution_count": 58,
      "metadata": {},
      "outputs": [
        {
          "name": "stdout",
          "output_type": "stream",
          "text": [
            "{'key-details': {'SPACE_KEY': '53bd436', 'API_KEY': '9178a0748dc2c31e24f'}, 'model-details': {'MODEL_ID': 'beanleaf-disease-classifier', 'MODEL_VERSION': 1.0}, 'image-base-url': 'https://github.com/jaganlal/image-embeddings-using-clip/blob/main/data/beanleaf_dataset/'}\n"
          ]
        }
      ],
      "source": [
        "import yaml\n",
        "\n",
        "# Please note you have to create a config file similar to `arize_config_sample.yaml` and provide arize key details and model details\n",
        "with open('arize_config.yaml', 'r') as file:\n",
        "    config = yaml.safe_load(file)\n",
        "\n",
        "print(config)\n",
        "arize_key_config = config['key-details']\n",
        "arize_model_config = config['model-details']"
      ]
    },
    {
      "cell_type": "code",
      "execution_count": 59,
      "metadata": {},
      "outputs": [
        {
          "name": "stdout",
          "output_type": "stream",
          "text": [
            "✅ Import and Setup Arize Client Done! Now we can start using Arize!\n"
          ]
        }
      ],
      "source": [
        "SPACE_KEY = arize_key_config['SPACE_KEY']\n",
        "API_KEY = arize_key_config['API_KEY']\n",
        "arize_client = Client(space_key=SPACE_KEY, api_key=API_KEY)\n",
        "model_id = arize_model_config['MODEL_ID']\n",
        "model_version = arize_model_config['MODEL_VERSION']\n",
        "model_type = ModelTypes.SCORE_CATEGORICAL\n",
        "if SPACE_KEY == 'SPACE_KEY' or API_KEY == 'API_KEY':\n",
        "    raise ValueError('❌ NEED TO CHANGE SPACE AND/OR API_KEY')\n",
        "else:\n",
        "    print('✅ Import and Setup Arize Client Done! Now we can start using Arize!')"
      ]
    },
    {
      "cell_type": "code",
      "execution_count": 60,
      "metadata": {},
      "outputs": [],
      "source": [
        "def add_prediction_id(df):\n",
        "    return [str(uuid.uuid4()) for _ in range(df.shape[0])]"
      ]
    },
    {
      "cell_type": "code",
      "execution_count": 61,
      "metadata": {},
      "outputs": [],
      "source": [
        "train_df['prediction_id'] = add_prediction_id(train_df)\n",
        "validation_df['prediction_id'] = add_prediction_id(validation_df)\n",
        "production_df['prediction_id'] = add_prediction_id(production_df)"
      ]
    },
    {
      "cell_type": "code",
      "execution_count": 62,
      "metadata": {},
      "outputs": [],
      "source": [
        "embedding_features = [\n",
        "    EmbeddingColumnNames(\n",
        "        vector_column_name='vector',  # Will be name of embedding feature in the app\n",
        "        link_to_data_column_name='url',\n",
        "    ),\n",
        "]\n",
        "\n",
        "# Define a Schema() object for Arize to pick up data from the correct columns for logging\n",
        "schema = Schema(\n",
        "    prediction_id_column_name='prediction_id',\n",
        "    timestamp_column_name='prediction_ts',\n",
        "    prediction_label_column_name='predicted_label',\n",
        "    actual_label_column_name='actual_label',\n",
        "    prediction_score_column_name='score',\n",
        "    embedding_feature_column_names=embedding_features\n",
        ")"
      ]
    },
    {
      "cell_type": "code",
      "execution_count": 63,
      "metadata": {},
      "outputs": [
        {
          "name": "stdout",
          "output_type": "stream",
          "text": [
            "Success! Check out your data at https://app.arize.com/organizations/QWNjb3VudE9yZ2FuaXphdGlvbjo4OTE=/spaces/U3BhY2U6OTMz/models/modelName/beanleaf-disease-classifier?selectedTab=dataIngestion\n",
            "✅ You have successfully logged training set to Arize\n"
          ]
        }
      ],
      "source": [
        "# Logging Training DataFrame\n",
        "response = arize_client.log(\n",
        "    dataframe=train_df,\n",
        "    model_id=model_id,\n",
        "    model_version=model_version,\n",
        "    model_type=model_type,\n",
        "    environment=Environments.TRAINING,\n",
        "    schema=schema,\n",
        "    sync=True\n",
        ")\n",
        "\n",
        "\n",
        "# If successful, the server will return a status_code of 200\n",
        "if response.status_code != 200:\n",
        "    print(f\"❌ logging failed with response code {response.status_code}, {response.text}\")\n",
        "else:\n",
        "    print(f\"✅ You have successfully logged training set to Arize\")"
      ]
    },
    {
      "cell_type": "code",
      "execution_count": 64,
      "metadata": {},
      "outputs": [
        {
          "name": "stdout",
          "output_type": "stream",
          "text": [
            "Success! Check out your data at https://app.arize.com/organizations/QWNjb3VudE9yZ2FuaXphdGlvbjo4OTE=/spaces/U3BhY2U6OTMz/models/modelName/beanleaf-disease-classifier?selectedTab=dataIngestion\n",
            "✅ You have successfully logged training set to Arize\n"
          ]
        }
      ],
      "source": [
        "# Logging Validation DataFrame\n",
        "response = arize_client.log(\n",
        "    dataframe=validation_df,\n",
        "    model_id=model_id,\n",
        "    model_version=model_version,\n",
        "    batch_id='validation',\n",
        "    model_type=model_type,\n",
        "    environment=Environments.VALIDATION,\n",
        "    schema=schema,\n",
        "    sync=True\n",
        ")\n",
        "\n",
        "# If successful, the server will return a status_code of 200\n",
        "if response.status_code != 200:\n",
        "    print(f\"❌ logging failed with response code {response.status_code}, {response.text}\")\n",
        "else:\n",
        "    print(f\"✅ You have successfully logged training set to Arize\")\n"
      ]
    },
    {
      "cell_type": "code",
      "execution_count": 65,
      "metadata": {},
      "outputs": [
        {
          "name": "stdout",
          "output_type": "stream",
          "text": [
            "Success! Check out your data at https://app.arize.com/organizations/QWNjb3VudE9yZ2FuaXphdGlvbjo4OTE=/spaces/U3BhY2U6OTMz/models/modelName/beanleaf-disease-classifier?selectedTab=dataIngestion\n",
            "✅ You have successfully logged production set to Arize\n"
          ]
        }
      ],
      "source": [
        "# Define a Schema() object for Arize to pick up data from the correct columns for logging\n",
        "prod_schema = Schema(\n",
        "    prediction_id_column_name='prediction_id',\n",
        "    timestamp_column_name='prediction_ts',\n",
        "    prediction_label_column_name='predicted_label',\n",
        "    actual_label_column_name='actual_label',\n",
        "    prediction_score_column_name='score',\n",
        "    embedding_feature_column_names=embedding_features\n",
        ")\n",
        "\n",
        "# Logging Production DataFrame\n",
        "response = arize_client.log(\n",
        "    dataframe=production_df,\n",
        "    model_id=model_id,\n",
        "    model_version=model_version,\n",
        "    model_type=model_type,\n",
        "    environment=Environments.PRODUCTION,\n",
        "    schema=prod_schema,\n",
        "    sync=True\n",
        ")\n",
        "\n",
        "if response.status_code != 200:\n",
        "    print(f\"❌ logging failed with response code {response.status_code}, {response.text}\")\n",
        "else:\n",
        "    print(f\"✅ You have successfully logged production set to Arize\")"
      ]
    },
    {
      "cell_type": "markdown",
      "metadata": {},
      "source": [
        "## Cat & Dog CSV"
      ]
    },
    {
      "cell_type": "code",
      "execution_count": 77,
      "metadata": {},
      "outputs": [],
      "source": [
        "# for now use cat & dog data as production data (WIP to create prod dataset)\n",
        "catdog_production_file = os.path.join(embeddings_folder_path, 'catdog_production.csv')\n",
        "catdog_production_df = pd.read_csv(catdog_production_file, converters={'vector':converter})\n",
        "\n",
        "catdog_production_df['prediction_id'] = add_prediction_id(catdog_production_df)"
      ]
    },
    {
      "cell_type": "code",
      "execution_count": 78,
      "metadata": {},
      "outputs": [
        {
          "name": "stdout",
          "output_type": "stream",
          "text": [
            "Success! Check out your data at https://app.arize.com/organizations/QWNjb3VudE9yZ2FuaXphdGlvbjo4OTE=/spaces/U3BhY2U6OTMz/models/modelName/beanleaf-disease-classifier?selectedTab=dataIngestion\n",
            "✅ You have successfully logged production set to Arize\n"
          ]
        }
      ],
      "source": [
        "# Define a Schema() object for Arize to pick up data from the correct columns for logging\n",
        "prod_schema = Schema(\n",
        "    prediction_id_column_name='prediction_id',\n",
        "    timestamp_column_name='prediction_ts',\n",
        "    prediction_label_column_name='predicted_label',\n",
        "    actual_label_column_name='actual_label',\n",
        "    prediction_score_column_name='score',\n",
        "    embedding_feature_column_names=embedding_features\n",
        ")\n",
        "\n",
        "# Logging Production DataFrame\n",
        "response = arize_client.log(\n",
        "    dataframe=catdog_production_df,\n",
        "    model_id=model_id,\n",
        "    model_version='1.1',\n",
        "    model_type=model_type,\n",
        "    environment=Environments.PRODUCTION,\n",
        "    schema=prod_schema,\n",
        "    sync=True\n",
        ")\n",
        "\n",
        "if response.status_code != 200:\n",
        "    print(f\"❌ logging failed with response code {response.status_code}, {response.text}\")\n",
        "else:\n",
        "    print(f\"✅ You have successfully logged production set to Arize\")"
      ]
    }
  ],
  "metadata": {
    "accelerator": "GPU",
    "colab": {
      "authorship_tag": "ABX9TyN3DDB2KsCqw+9BU+ATcfCD",
      "include_colab_link": true,
      "name": "Leaf Disease Classification - Computer Vision.ipynb",
      "provenance": []
    },
    "kernelspec": {
      "display_name": "Python 3.9.7 ('env': venv)",
      "language": "python",
      "name": "python3"
    },
    "language_info": {
      "codemirror_mode": {
        "name": "ipython",
        "version": 3
      },
      "file_extension": ".py",
      "mimetype": "text/x-python",
      "name": "python",
      "nbconvert_exporter": "python",
      "pygments_lexer": "ipython3",
      "version": "3.9.7"
    },
    "vscode": {
      "interpreter": {
        "hash": "1a4d301a8b84987ac195ee0e9454eae9b3b9e25737823c7cd48634e53209c667"
      }
    }
  },
  "nbformat": 4,
  "nbformat_minor": 0
}
